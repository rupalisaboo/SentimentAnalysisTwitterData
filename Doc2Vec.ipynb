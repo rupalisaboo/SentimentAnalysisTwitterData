{
 "cells": [
  {
   "cell_type": "code",
   "execution_count": null,
   "metadata": {
    "collapsed": false
   },
   "outputs": [],
   "source": [
    "import time\n",
    "from timeit import default_timer\n",
    "from contextlib import contextmanager\n",
    "\n",
    "@contextmanager\n",
    "def elapsed_timer():\n",
    "    start = default_timer()\n",
    "    print 'I\\'m here.' + time.strftime(\"%Y-%m-%d %H:%M:%S\", time.gmtime())\n",
    "    elapser = lambda: default_timer() - start\n",
    "    yield lambda: elapser()\n",
    "    end = default_timer()\n",
    "    elapser = lambda: end-start\n",
    "    print 'I\\'m done.' + time.strftime(\"%Y-%m-%d %H:%M:%S\", time.gmtime())"
   ]
  },
  {
   "cell_type": "code",
   "execution_count": null,
   "metadata": {
    "collapsed": false
   },
   "outputs": [],
   "source": [
    "with elapsed_timer() as elapsed:\n",
    "    time.sleep(4)\n",
    "    duration = '%.1f' % elapsed()\n",
    "    print duration\n",
    "    time.sleep(4)"
   ]
  },
  {
   "cell_type": "code",
   "execution_count": 1,
   "metadata": {
    "collapsed": false
   },
   "outputs": [
    {
     "name": "stdout",
     "output_type": "stream",
     "text": [
      "File: tweet_text_clea.csv not found\n"
     ]
    }
   ],
   "source": [
    "#Split the all_views, get one file(sentiment, tweet) for each view\n",
    "#Clean each view\n",
    "#Run this for each view.\n",
    "%%bash\n",
    "fn=\"tweet_text_clean\" #file name is\n",
    "if [ ! -f \"$fn.csv\" ]\n",
    "then\n",
    "    echo \"File: $fn.csv not found\"\n",
    "    exit\n",
    "fi\n",
    "#this function will convert text to lowercase and will disconnect punctuation and special symbols from words\n",
    "function normalize_text {\n",
    "    awk '{print tolower($0);}' < $1 | sed -e 's/\\./ \\. /g' -e 's/<br \\/>/ /g' -e 's/\"/ \" /g' \\\n",
    "    -e 's/,/ , /g' -e 's/(/ ( /g' -e 's/)/ ) /g' -e 's/\\!/ \\! /g' -e 's/\\?/ \\? /g' \\\n",
    "    -e 's/\\;/ \\; /g' -e 's/\\:/ \\: /g' > $1-norm\n",
    "}\n",
    "export LC_ALL=C\n",
    "normalize_text \"$fn.csv\"\n",
    "mv \"$fn.csv\" \"$fn-norm\""
   ]
  },
  {
   "cell_type": "code",
   "execution_count": 2,
   "metadata": {
    "collapsed": false
   },
   "outputs": [],
   "source": [
    "import os.path\n",
    "tw_file = 'tweet_text_clean-norm' #filename-norm\n",
    "#corp_file = 'tweet_corpus.csv'\n",
    "assert os.path.isfile(tw_file), tw_file + \" unavailable\"\n",
    "#assert os.path.isfile(corp_file), corp_file + \" unavailable\""
   ]
  },
  {
   "cell_type": "code",
   "execution_count": 22,
   "metadata": {
    "collapsed": false
   },
   "outputs": [
    {
     "ename": "TypeError",
     "evalue": "object of type 'file' has no len()",
     "output_type": "error",
     "traceback": [
      "\u001b[0;31m---------------------------------------------------------------------------\u001b[0m",
      "\u001b[0;31mTypeError\u001b[0m                                 Traceback (most recent call last)",
      "\u001b[0;32m<ipython-input-22-2074ee1336ea>\u001b[0m in \u001b[0;36m<module>\u001b[0;34m()\u001b[0m\n\u001b[1;32m      1\u001b[0m \u001b[0;32mwith\u001b[0m \u001b[0mopen\u001b[0m\u001b[0;34m(\u001b[0m\u001b[0mtw_file\u001b[0m\u001b[0;34m)\u001b[0m \u001b[0;32mas\u001b[0m \u001b[0malldata\u001b[0m\u001b[0;34m:\u001b[0m\u001b[0;34m\u001b[0m\u001b[0m\n\u001b[0;32m----> 2\u001b[0;31m     \u001b[0;32mprint\u001b[0m \u001b[0mlen\u001b[0m\u001b[0;34m(\u001b[0m\u001b[0malldata\u001b[0m\u001b[0;34m)\u001b[0m\u001b[0;34m\u001b[0m\u001b[0m\n\u001b[0m",
      "\u001b[0;31mTypeError\u001b[0m: object of type 'file' has no len()"
     ]
    }
   ],
   "source": [
    "with open(tw_file) as alldata:\n",
    "    print len(alldata)"
   ]
  },
  {
   "cell_type": "code",
   "execution_count": 11,
   "metadata": {
    "collapsed": false
   },
   "outputs": [
    {
     "name": "stdout",
     "output_type": "stream",
     "text": [
      "347 docs: 246 train-sentiment, 101 test-sentiment\n"
     ]
    }
   ],
   "source": [
    "import gensim\n",
    "import numpy as np\n",
    "from gensim.models.doc2vec import TaggedDocument\n",
    "from collections import namedtuple\n",
    "\n",
    "#sentiment = {'positive':1, 'negative':-1} #, 'neutral':2}\n",
    "sentiment = {'4':1, '0':-1} #- new data 0,4\n",
    "SentimentDocument = namedtuple('SentimentDocument', 'words tags split sentiment')\n",
    "\n",
    "alldocs = []  # will hold all docs in original order\n",
    "#tw_sentiment_dict = {}\n",
    "#print total_num, train_test_shuffle\n",
    "train_num = total_num *  7 / 10 # 70% train/test\n",
    "with open(tw_file) as alldata:\n",
    "    for line_no, line in enumerate(alldata):\n",
    "        tokens = gensim.utils.to_unicode(line).split('\\t')\n",
    "        sentiment = tokens[0]\n",
    "        #if tw_id not in tw_sentiment_dict.keys():\n",
    "        #    continue\n",
    "        words = tokens[1]\n",
    "        split = 'test'\n",
    "        #sentiment = tw_sentiment_dict[tw_id]\n",
    "        alldocs.append(SentimentDocument(words, tags, split, sentiment))\n",
    "#split train/test\n",
    "total_num = len(alldocs)\n",
    "train_test_shuffle = np.arange(total_num)\n",
    "np.random.shuffle(train_test_shuffle)\n",
    "#set split \n",
    "train_docs = []\n",
    "test_docs = []\n",
    "for line_no, doc in enumerate(alldocs):\n",
    "    if train_test_shuffle[line_no] <= train_num:\n",
    "        doc.split = 'train'\n",
    "        train_docs.append(doc)\n",
    "    else:\n",
    "        test_docs.append(doc)\n",
    "#train_docs = [doc for doc in alldocs if doc.split == 'train']\n",
    "#test_docs = [doc for doc in alldocs if doc.split == 'test']\n",
    "doc_list = alldocs[:]  # for reshuffling per pass\n",
    "\n",
    "print('%d docs: %d train-sentiment, %d test-sentiment' % (len(doc_list), len(train_docs), len(test_docs)))"
   ]
  },
  {
   "cell_type": "code",
   "execution_count": 12,
   "metadata": {
    "collapsed": false
   },
   "outputs": [
    {
     "name": "stdout",
     "output_type": "stream",
     "text": [
      "Doc2Vec(dm/c,d100,n5,w3,mc5,t4)\n",
      "Doc2Vec(dbow,d100,n5,mc5,t4)\n",
      "Doc2Vec(dm/m,d100,n5,w3,mc2,t4)\n"
     ]
    }
   ],
   "source": [
    "from gensim.models import Doc2Vec\n",
    "import gensim.models.doc2vec\n",
    "from collections import OrderedDict\n",
    "import multiprocessing\n",
    "\n",
    "cores = multiprocessing.cpu_count()\n",
    "assert gensim.models.doc2vec.FAST_VERSION > -1, \"this will be painfully slow otherwise\"\n",
    "model_size = 100\n",
    "simple_models = [\n",
    "    # PV-DM w/concatenation - window=5 (both sides) approximates paper's 10-word total window size\n",
    "    Doc2Vec(dm=1, dm_concat=1, size=model_size, window=3, negative=5, hs=0, min_count=5, workers=cores),\n",
    "    # PV-DBOW \n",
    "    Doc2Vec(dm=0, size=model_size, negative=5, hs=0, min_count=5, workers=cores),\n",
    "    # PV-DM w/average\n",
    "    Doc2Vec(dm=1, dm_mean=1, size=model_size, window=3, negative=5, hs=0, min_count=2, workers=cores),\n",
    "]\n",
    "\n",
    "# speed setup by sharing results of 1st model's vocabulary scan\n",
    "simple_models[0].build_vocab(alldocs)  # PV-DM/concat requires one special NULL word so it serves as template\n",
    "print(simple_models[0])\n",
    "for model in simple_models[1:]:\n",
    "    model.reset_from(simple_models[0])\n",
    "    print(model)\n",
    "\n",
    "models_by_name = OrderedDict((str(model), model) for model in simple_models)"
   ]
  },
  {
   "cell_type": "code",
   "execution_count": 13,
   "metadata": {
    "collapsed": false
   },
   "outputs": [],
   "source": [
    "from gensim.test.test_doc2vec import ConcatenatedDoc2Vec\n",
    "models_by_name['dbow+dmm'] = ConcatenatedDoc2Vec([simple_models[1], simple_models[2]])\n",
    "models_by_name['dbow+dmc'] = ConcatenatedDoc2Vec([simple_models[1], simple_models[0]])\n",
    "#print models_by_name['dbow+dmm'], models_by_name['dbow+dmc'] \n",
    "#del models_by_name['dbow+dmc']"
   ]
  },
  {
   "cell_type": "code",
   "execution_count": 14,
   "metadata": {
    "collapsed": false
   },
   "outputs": [],
   "source": [
    "import numpy as np\n",
    "import statsmodels.api as sm\n",
    "from sklearn import svm, metrics\n",
    "from random import sample\n",
    "\n",
    "# for timing\n",
    "from contextlib import contextmanager\n",
    "from timeit import default_timer\n",
    "import time \n",
    "import ipdb\n",
    "\n",
    "@contextmanager\n",
    "def elapsed_timer():\n",
    "    start = default_timer()\n",
    "    elapser = lambda: default_timer() - start\n",
    "    yield lambda: elapser()\n",
    "    end = default_timer()\n",
    "    elapser = lambda: end-start\n",
    "    \n",
    "def logistic_predictor_from_data(train_targets, train_regressors):\n",
    "    logit = sm.Logit(train_targets, train_regressors)\n",
    "    #ipdb.set_trace()\n",
    "    predictor = logit.fit(disp=0)\n",
    "    #print(predictor.summary())\n",
    "    return predictor\n",
    "\n",
    "def svm_predictor_from_data(train_targets, train_regressors):\n",
    "    svc = svm.SVC(kernel='poly', degree=5)\n",
    "    svc.fit(train_regressors, train_targets)\n",
    "    return svc\n",
    "\n",
    "    \"\"\"expected = svm_y_test\n",
    "    predicted = svc.predict(svm_x_test)\n",
    "\n",
    "    #print(\"Classification report for classifier %s:\\n%s\\n\"\n",
    "    #      % (svc, metrics.classification_report(expected, predicted)))\n",
    "    #print(\"Confusion matrix:\\n%s\" % metrics.confusion_matrix(expected, predicted))\n",
    "    \"\"\"\n",
    "\n",
    "def error_rate_for_model(test_model, train_set, test_set, infer=False, infer_steps=3, infer_alpha=0.1, infer_subsample=0.1):\n",
    "    \"\"\"Report error rate on test_doc sentiments, using supplied model and train_docs\"\"\"\n",
    "\n",
    "    train_targets, train_regressors = zip(*[(doc.sentiment, test_model.docvecs[doc.tags[0]]) for doc in train_set])\n",
    "    train_regressors = sm.add_constant(train_regressors)\n",
    "    #predictor = logistic_predictor_from_data(train_targets, train_regressors)\n",
    "    predictor = svm_predictor_from_data(train_targets, train_regressors)\n",
    "\n",
    "    test_data = test_set\n",
    "    if infer:\n",
    "        if infer_subsample < 1.0:\n",
    "            test_data = sample(test_data, int(infer_subsample * len(test_data)))\n",
    "        test_regressors = [test_model.infer_vector(doc.words, steps=infer_steps, alpha=infer_alpha) for doc in test_data]\n",
    "    else:\n",
    "        test_regressors = [test_model.docvecs[doc.tags[0]] for doc in test_docs]\n",
    "    test_regressors = sm.add_constant(test_regressors)\n",
    "    \n",
    "    # predict & evaluate\n",
    "    test_predictions = predictor.predict(test_regressors)\n",
    "    #ipdb.set_trace()\n",
    "    corrects = sum(np.rint(test_predictions) == [doc.sentiment for doc in test_data])\n",
    "    errors = len(test_predictions) - corrects\n",
    "    error_rate = float(errors) / len(test_predictions)\n",
    "    return (error_rate, errors, len(test_predictions), predictor)"
   ]
  },
  {
   "cell_type": "code",
   "execution_count": 15,
   "metadata": {
    "collapsed": true
   },
   "outputs": [],
   "source": [
    "from collections import defaultdict\n",
    "best_error = defaultdict(lambda :1.0)  # to selectively-print only best errors achieved"
   ]
  },
  {
   "cell_type": "code",
   "execution_count": 16,
   "metadata": {
    "collapsed": false
   },
   "outputs": [
    {
     "name": "stdout",
     "output_type": "stream",
     "text": [
      "START 2015-11-24 13:54:26.129185\n",
      "*0.366337 : 1 passes : Doc2Vec(dm/c,d100,n5,w3,mc5,t4) 0.0s 0.0s\n",
      "*0.200000 : 1 passes : Doc2Vec(dm/c,d100,n5,w3,mc5,t4)_inferred 0.0s 0.0s\n",
      "*0.366337 : 1 passes : Doc2Vec(dbow,d100,n5,mc5,t4) 0.0s 0.0s\n",
      "*0.500000 : 1 passes : Doc2Vec(dbow,d100,n5,mc5,t4)_inferred 0.0s 0.0s\n",
      "*0.366337 : 1 passes : Doc2Vec(dm/m,d100,n5,w3,mc2,t4) 0.0s 0.0s\n",
      "*0.400000 : 1 passes : Doc2Vec(dm/m,d100,n5,w3,mc2,t4)_inferred 0.0s 0.0s\n",
      "*0.366337 : 1 passes : dbow+dmm 0.0s 0.0s\n",
      "*0.400000 : 1 passes : dbow+dmm_inferred 0.0s 0.0s\n",
      "*0.366337 : 1 passes : dbow+dmc 0.0s 0.0s\n",
      "*0.400000 : 1 passes : dbow+dmc_inferred 0.0s 0.0s\n",
      "completed pass 1 at alpha 0.025000\n",
      "*0.366337 : 2 passes : Doc2Vec(dm/c,d100,n5,w3,mc5,t4) 0.0s 0.0s\n",
      "*0.366337 : 2 passes : Doc2Vec(dbow,d100,n5,mc5,t4) 0.0s 0.0s\n",
      "*0.366337 : 2 passes : Doc2Vec(dm/m,d100,n5,w3,mc2,t4) 0.0s 0.0s\n",
      "*0.366337 : 2 passes : dbow+dmm 0.0s 0.0s\n",
      "*0.366337 : 2 passes : dbow+dmc 0.0s 0.0s\n",
      "completed pass 2 at alpha 0.023800\n",
      "*0.366337 : 3 passes : Doc2Vec(dm/c,d100,n5,w3,mc5,t4) 0.0s 0.0s\n",
      "*0.366337 : 3 passes : Doc2Vec(dbow,d100,n5,mc5,t4) 0.0s 0.0s\n",
      "*0.366337 : 3 passes : Doc2Vec(dm/m,d100,n5,w3,mc2,t4) 0.0s 0.0s\n",
      "*0.366337 : 3 passes : dbow+dmm 0.0s 0.0s\n",
      "*0.366337 : 3 passes : dbow+dmc 0.0s 0.0s\n",
      "completed pass 3 at alpha 0.022600\n",
      "*0.366337 : 4 passes : Doc2Vec(dm/c,d100,n5,w3,mc5,t4) 0.0s 0.0s\n",
      "*0.366337 : 4 passes : Doc2Vec(dbow,d100,n5,mc5,t4) 0.0s 0.0s\n",
      "*0.366337 : 4 passes : Doc2Vec(dm/m,d100,n5,w3,mc2,t4) 0.0s 0.0s\n",
      "*0.366337 : 4 passes : dbow+dmm 0.0s 0.0s\n",
      "*0.366337 : 4 passes : dbow+dmc 0.0s 0.0s\n",
      "completed pass 4 at alpha 0.021400\n",
      "*0.366337 : 5 passes : Doc2Vec(dm/c,d100,n5,w3,mc5,t4) 0.0s 0.0s\n",
      " 0.300000 : 5 passes : Doc2Vec(dm/c,d100,n5,w3,mc5,t4)_inferred 0.0s 0.0s\n",
      "*0.366337 : 5 passes : Doc2Vec(dbow,d100,n5,mc5,t4) 0.0s 0.0s\n",
      "*0.400000 : 5 passes : Doc2Vec(dbow,d100,n5,mc5,t4)_inferred 0.0s 0.0s\n",
      "*0.366337 : 5 passes : Doc2Vec(dm/m,d100,n5,w3,mc2,t4) 0.0s 0.0s\n",
      "*0.300000 : 5 passes : Doc2Vec(dm/m,d100,n5,w3,mc2,t4)_inferred 0.0s 0.0s\n",
      "*0.366337 : 5 passes : dbow+dmm 0.0s 0.0s\n",
      "*0.300000 : 5 passes : dbow+dmm_inferred 0.0s 0.0s\n",
      "*0.366337 : 5 passes : dbow+dmc 0.0s 0.0s\n",
      "*0.300000 : 5 passes : dbow+dmc_inferred 0.0s 0.0s\n",
      "completed pass 5 at alpha 0.020200\n",
      "*0.366337 : 6 passes : Doc2Vec(dm/c,d100,n5,w3,mc5,t4) 0.0s 0.0s\n",
      "*0.366337 : 6 passes : Doc2Vec(dbow,d100,n5,mc5,t4) 0.0s 0.0s\n",
      "*0.366337 : 6 passes : Doc2Vec(dm/m,d100,n5,w3,mc2,t4) 0.0s 0.0s\n",
      "*0.366337 : 6 passes : dbow+dmm 0.0s 0.0s\n",
      "*0.366337 : 6 passes : dbow+dmc 0.0s 0.0s\n",
      "completed pass 6 at alpha 0.019000\n",
      "*0.366337 : 7 passes : Doc2Vec(dm/c,d100,n5,w3,mc5,t4) 0.0s 0.0s\n",
      "*0.366337 : 7 passes : Doc2Vec(dbow,d100,n5,mc5,t4) 0.0s 0.0s\n",
      "*0.366337 : 7 passes : Doc2Vec(dm/m,d100,n5,w3,mc2,t4) 0.0s 0.0s\n",
      "*0.366337 : 7 passes : dbow+dmm 0.0s 0.0s\n",
      "*0.366337 : 7 passes : dbow+dmc 0.0s 0.0s\n",
      "completed pass 7 at alpha 0.017800\n",
      "*0.366337 : 8 passes : Doc2Vec(dm/c,d100,n5,w3,mc5,t4) 0.0s 0.0s\n",
      "*0.366337 : 8 passes : Doc2Vec(dbow,d100,n5,mc5,t4) 0.0s 0.0s\n",
      "*0.366337 : 8 passes : Doc2Vec(dm/m,d100,n5,w3,mc2,t4) 0.0s 0.0s\n",
      "*0.366337 : 8 passes : dbow+dmm 0.0s 0.0s\n",
      "*0.366337 : 8 passes : dbow+dmc 0.0s 0.0s\n",
      "completed pass 8 at alpha 0.016600\n",
      "*0.366337 : 9 passes : Doc2Vec(dm/c,d100,n5,w3,mc5,t4) 0.0s 0.0s\n",
      "*0.366337 : 9 passes : Doc2Vec(dbow,d100,n5,mc5,t4) 0.0s 0.0s\n",
      "*0.366337 : 9 passes : Doc2Vec(dm/m,d100,n5,w3,mc2,t4) 0.0s 0.0s\n",
      "*0.366337 : 9 passes : dbow+dmm 0.0s 0.0s\n",
      "*0.366337 : 9 passes : dbow+dmc 0.0s 0.0s\n",
      "completed pass 9 at alpha 0.015400\n",
      "*0.366337 : 10 passes : Doc2Vec(dm/c,d100,n5,w3,mc5,t4) 0.0s 0.0s\n",
      " 0.300000 : 10 passes : Doc2Vec(dm/c,d100,n5,w3,mc5,t4)_inferred 0.0s 0.0s\n",
      "*0.366337 : 10 passes : Doc2Vec(dbow,d100,n5,mc5,t4) 0.0s 0.0s\n",
      "*0.200000 : 10 passes : Doc2Vec(dbow,d100,n5,mc5,t4)_inferred 0.0s 0.0s\n",
      "*0.366337 : 10 passes : Doc2Vec(dm/m,d100,n5,w3,mc2,t4) 0.0s 0.0s\n",
      " 0.400000 : 10 passes : Doc2Vec(dm/m,d100,n5,w3,mc2,t4)_inferred 0.0s 0.0s\n",
      "*0.366337 : 10 passes : dbow+dmm 0.0s 0.0s\n",
      " 0.300000 : 10 passes : dbow+dmm_inferred 0.0s 0.0s\n",
      "*0.366337 : 10 passes : dbow+dmc 0.0s 0.0s\n",
      " 0.400000 : 10 passes : dbow+dmc_inferred 0.0s 0.0s\n",
      "completed pass 10 at alpha 0.014200\n",
      "*0.366337 : 11 passes : Doc2Vec(dm/c,d100,n5,w3,mc5,t4) 0.0s 0.0s\n",
      "*0.366337 : 11 passes : Doc2Vec(dbow,d100,n5,mc5,t4) 0.0s 0.0s\n",
      "*0.366337 : 11 passes : Doc2Vec(dm/m,d100,n5,w3,mc2,t4) 0.0s 0.0s\n",
      "*0.366337 : 11 passes : dbow+dmm 0.0s 0.0s\n",
      "*0.366337 : 11 passes : dbow+dmc 0.0s 0.0s\n",
      "completed pass 11 at alpha 0.013000\n",
      "*0.366337 : 12 passes : Doc2Vec(dm/c,d100,n5,w3,mc5,t4) 0.0s 0.0s\n",
      "*0.366337 : 12 passes : Doc2Vec(dbow,d100,n5,mc5,t4) 0.0s 0.0s\n",
      "*0.366337 : 12 passes : Doc2Vec(dm/m,d100,n5,w3,mc2,t4) 0.0s 0.0s\n",
      "*0.366337 : 12 passes : dbow+dmm 0.0s 0.0s\n",
      "*0.366337 : 12 passes : dbow+dmc 0.0s 0.0s\n",
      "completed pass 12 at alpha 0.011800\n",
      "*0.366337 : 13 passes : Doc2Vec(dm/c,d100,n5,w3,mc5,t4) 0.0s 0.0s\n",
      "*0.366337 : 13 passes : Doc2Vec(dbow,d100,n5,mc5,t4) 0.0s 0.0s\n",
      "*0.366337 : 13 passes : Doc2Vec(dm/m,d100,n5,w3,mc2,t4) 0.0s 0.0s\n",
      "*0.366337 : 13 passes : dbow+dmm 0.0s 0.0s\n",
      "*0.366337 : 13 passes : dbow+dmc 0.0s 0.0s\n",
      "completed pass 13 at alpha 0.010600\n",
      "*0.366337 : 14 passes : Doc2Vec(dm/c,d100,n5,w3,mc5,t4) 0.0s 0.0s\n",
      "*0.366337 : 14 passes : Doc2Vec(dbow,d100,n5,mc5,t4) 0.0s 0.0s\n",
      "*0.366337 : 14 passes : Doc2Vec(dm/m,d100,n5,w3,mc2,t4) 0.0s 0.0s\n",
      "*0.366337 : 14 passes : dbow+dmm 0.0s 0.0s\n",
      "*0.366337 : 14 passes : dbow+dmc 0.0s 0.0s\n",
      "completed pass 14 at alpha 0.009400\n",
      "*0.366337 : 15 passes : Doc2Vec(dm/c,d100,n5,w3,mc5,t4) 0.0s 0.0s\n",
      " 0.600000 : 15 passes : Doc2Vec(dm/c,d100,n5,w3,mc5,t4)_inferred 0.0s 0.0s\n",
      "*0.366337 : 15 passes : Doc2Vec(dbow,d100,n5,mc5,t4) 0.0s 0.0s\n",
      " 0.300000 : 15 passes : Doc2Vec(dbow,d100,n5,mc5,t4)_inferred 0.0s 0.0s\n",
      "*0.366337 : 15 passes : Doc2Vec(dm/m,d100,n5,w3,mc2,t4) 0.0s 0.0s\n",
      " 0.300000 : 15 passes : Doc2Vec(dm/m,d100,n5,w3,mc2,t4)_inferred 0.0s 0.0s\n",
      "*0.366337 : 15 passes : dbow+dmm 0.0s 0.0s\n",
      " 0.500000 : 15 passes : dbow+dmm_inferred 0.0s 0.0s\n",
      "*0.366337 : 15 passes : dbow+dmc 0.0s 0.0s\n",
      " 0.400000 : 15 passes : dbow+dmc_inferred 0.0s 0.0s\n",
      "completed pass 15 at alpha 0.008200\n",
      "*0.366337 : 16 passes : Doc2Vec(dm/c,d100,n5,w3,mc5,t4) 0.0s 0.0s\n",
      "*0.366337 : 16 passes : Doc2Vec(dbow,d100,n5,mc5,t4) 0.0s 0.0s\n",
      "*0.366337 : 16 passes : Doc2Vec(dm/m,d100,n5,w3,mc2,t4) 0.0s 0.0s\n",
      "*0.366337 : 16 passes : dbow+dmm 0.0s 0.0s\n",
      "*0.366337 : 16 passes : dbow+dmc 0.0s 0.1s\n",
      "completed pass 16 at alpha 0.007000\n",
      "*0.366337 : 17 passes : Doc2Vec(dm/c,d100,n5,w3,mc5,t4) 0.0s 0.0s\n",
      "*0.366337 : 17 passes : Doc2Vec(dbow,d100,n5,mc5,t4) 0.0s 0.0s\n",
      "*0.366337 : 17 passes : Doc2Vec(dm/m,d100,n5,w3,mc2,t4) 0.0s 0.0s\n",
      "*0.366337 : 17 passes : dbow+dmm 0.0s 0.0s\n",
      "*0.366337 : 17 passes : dbow+dmc 0.0s 0.0s\n",
      "completed pass 17 at alpha 0.005800\n",
      "*0.366337 : 18 passes : Doc2Vec(dm/c,d100,n5,w3,mc5,t4) 0.0s 0.0s\n",
      "*0.366337 : 18 passes : Doc2Vec(dbow,d100,n5,mc5,t4) 0.0s 0.0s\n",
      "*0.366337 : 18 passes : Doc2Vec(dm/m,d100,n5,w3,mc2,t4) 0.0s 0.0s\n",
      "*0.366337 : 18 passes : dbow+dmm 0.0s 0.0s\n",
      "*0.366337 : 18 passes : dbow+dmc 0.0s 0.0s\n",
      "completed pass 18 at alpha 0.004600\n",
      "*0.366337 : 19 passes : Doc2Vec(dm/c,d100,n5,w3,mc5,t4) 0.0s 0.0s\n",
      "*0.366337 : 19 passes : Doc2Vec(dbow,d100,n5,mc5,t4) 0.0s 0.0s\n",
      "*0.366337 : 19 passes : Doc2Vec(dm/m,d100,n5,w3,mc2,t4) 0.0s 0.0s\n",
      "*0.366337 : 19 passes : dbow+dmm 0.0s 0.0s\n",
      "*0.366337 : 19 passes : dbow+dmc 0.0s 0.0s\n",
      "completed pass 19 at alpha 0.003400\n",
      "*0.366337 : 20 passes : Doc2Vec(dm/c,d100,n5,w3,mc5,t4) 0.0s 0.0s\n",
      " 0.300000 : 20 passes : Doc2Vec(dm/c,d100,n5,w3,mc5,t4)_inferred 0.0s 0.0s\n",
      "*0.366337 : 20 passes : Doc2Vec(dbow,d100,n5,mc5,t4) 0.0s 0.0s\n",
      " 0.400000 : 20 passes : Doc2Vec(dbow,d100,n5,mc5,t4)_inferred 0.0s 0.0s\n",
      "*0.366337 : 20 passes : Doc2Vec(dm/m,d100,n5,w3,mc2,t4) 0.0s 0.0s\n",
      "*0.200000 : 20 passes : Doc2Vec(dm/m,d100,n5,w3,mc2,t4)_inferred 0.0s 0.0s\n",
      "*0.366337 : 20 passes : dbow+dmm 0.0s 0.1s\n",
      "*0.200000 : 20 passes : dbow+dmm_inferred 0.0s 0.0s\n",
      "*0.366337 : 20 passes : dbow+dmc 0.0s 0.0s\n",
      "*0.100000 : 20 passes : dbow+dmc_inferred 0.0s 0.0s\n",
      "completed pass 20 at alpha 0.002200\n",
      "END 2015-11-24 13:54:29.300377\n"
     ]
    }
   ],
   "source": [
    "from random import shuffle\n",
    "import datetime\n",
    "\n",
    "alpha, min_alpha, passes = (0.025, 0.001, 20)\n",
    "alpha_delta = (alpha - min_alpha) / passes\n",
    "\n",
    "print(\"START %s\" % datetime.datetime.now())\n",
    "\n",
    "for epoch in range(passes):\n",
    "    shuffle(doc_list)  # shuffling gets best results\n",
    "    \n",
    "    for name, train_model in models_by_name.items():\n",
    "        #print name\n",
    "        # train\n",
    "        duration = 'na'\n",
    "        train_model.alpha, train_model.min_alpha = alpha, alpha\n",
    "        with elapsed_timer() as elapsed:\n",
    "            train_model.train(doc_list)\n",
    "            duration = '%.1f' % elapsed()\n",
    "            \n",
    "        # evaluate\n",
    "        eval_duration = ''\n",
    "        with elapsed_timer() as eval_elapsed:\n",
    "            err, err_count, test_count, predictor = error_rate_for_model(train_model, train_docs, test_docs)\n",
    "        eval_duration = '%.1f' % eval_elapsed()\n",
    "        best_indicator = ' '\n",
    "        if err <= best_error[name]:\n",
    "            best_error[name] = err\n",
    "            best_indicator = '*' \n",
    "        print(\"%s%f : %i passes : %s %ss %ss\" % (best_indicator, err, epoch + 1, name, duration, eval_duration))\n",
    "\n",
    "        if ((epoch + 1) % 5) == 0 or epoch == 0:\n",
    "            eval_duration = ''\n",
    "            with elapsed_timer() as eval_elapsed:\n",
    "                infer_err, err_count, test_count, predictor = error_rate_for_model(train_model, train_docs, test_docs, infer=True)\n",
    "            eval_duration = '%.1f' % eval_elapsed()\n",
    "            best_indicator = ' '\n",
    "            if infer_err < best_error[name + '_inferred']:\n",
    "                best_error[name + '_inferred'] = infer_err\n",
    "                best_indicator = '*'\n",
    "            print(\"%s%f : %i passes : %s %ss %ss\" % (best_indicator, infer_err, epoch + 1, name + '_inferred', duration, eval_duration))\n",
    "\n",
    "    print('completed pass %i at alpha %f' % (epoch + 1, alpha))\n",
    "    alpha -= alpha_delta\n",
    "    \n",
    "print(\"END %s\" % str(datetime.datetime.now()))"
   ]
  },
  {
   "cell_type": "code",
   "execution_count": 17,
   "metadata": {
    "collapsed": false
   },
   "outputs": [
    {
     "name": "stdout",
     "output_type": "stream",
     "text": [
      "0.100000 dbow+dmc_inferred\n",
      "0.200000 Doc2Vec(dbow,d100,n5,mc5,t4)_inferred\n",
      "0.200000 Doc2Vec(dm/c,d100,n5,w3,mc5,t4)_inferred\n",
      "0.200000 Doc2Vec(dm/m,d100,n5,w3,mc2,t4)_inferred\n",
      "0.200000 dbow+dmm_inferred\n",
      "0.366337 Doc2Vec(dbow,d100,n5,mc5,t4)\n",
      "0.366337 Doc2Vec(dm/c,d100,n5,w3,mc5,t4)\n",
      "0.366337 Doc2Vec(dm/m,d100,n5,w3,mc2,t4)\n",
      "0.366337 dbow+dmc\n",
      "0.366337 dbow+dmm\n"
     ]
    }
   ],
   "source": [
    "for rate, name in sorted((rate, name) for name, rate in best_error.items()):\n",
    "    print(\"%f %s\" % (rate, name))"
   ]
  },
  {
   "cell_type": "code",
   "execution_count": 19,
   "metadata": {
    "collapsed": false
   },
   "outputs": [
    {
     "name": "stdout",
     "output_type": "stream",
     "text": [
      "for doc 66...\n",
      "Doc2Vec(dm/c,d100,n5,w3,mc5,t4):\n",
      " [(281, 0.3276647627353668), (292, 0.2725587487220764), (30, 0.2566581666469574)]\n",
      "Doc2Vec(dbow,d100,n5,mc5,t4):\n",
      " [(281, 0.3276647627353668), (292, 0.2725587487220764), (30, 0.2566581666469574)]\n",
      "Doc2Vec(dm/m,d100,n5,w3,mc2,t4):\n",
      " [(281, 0.3276647627353668), (292, 0.2725587487220764), (30, 0.2566581666469574)]\n"
     ]
    }
   ],
   "source": [
    "doc_id = np.random.randint(simple_models[0].docvecs.count)  # pick random doc; re-run cell for more examples\n",
    "print('for doc %d...' % doc_id)\n",
    "for model in simple_models:\n",
    "    inferred_docvec = model.infer_vector(alldocs[doc_id].words)\n",
    "    print('%s:\\n %s' % (model, model.docvecs.most_similar([inferred_docvec], topn=3)))"
   ]
  },
  {
   "cell_type": "code",
   "execution_count": null,
   "metadata": {
    "collapsed": true
   },
   "outputs": [],
   "source": []
  },
  {
   "cell_type": "code",
   "execution_count": 21,
   "metadata": {
    "collapsed": false
   },
   "outputs": [
    {
     "ename": "NameError",
     "evalue": "name 'ls' is not defined",
     "output_type": "error",
     "traceback": [
      "\u001b[0;31m---------------------------------------------------------------------------\u001b[0m",
      "\u001b[0;31mNameError\u001b[0m                                 Traceback (most recent call last)",
      "\u001b[0;32m<ipython-input-21-f3ca83510581>\u001b[0m in \u001b[0;36m<module>\u001b[0;34m()\u001b[0m\n\u001b[0;32m----> 1\u001b[0;31m \u001b[0mf\u001b[0m \u001b[0;34m=\u001b[0m \u001b[0meval\u001b[0m\u001b[0;34m(\u001b[0m\u001b[0;34m'ls'\u001b[0m\u001b[0;34m)\u001b[0m\u001b[0;34m\u001b[0m\u001b[0m\n\u001b[0m",
      "\u001b[0;32m<string>\u001b[0m in \u001b[0;36m<module>\u001b[0;34m()\u001b[0m\n",
      "\u001b[0;31mNameError\u001b[0m: name 'ls' is not defined"
     ]
    }
   ],
   "source": [
    "f = eval('ls')"
   ]
  },
  {
   "cell_type": "code",
   "execution_count": null,
   "metadata": {
    "collapsed": true
   },
   "outputs": [],
   "source": []
  }
 ],
 "metadata": {
  "kernelspec": {
   "display_name": "Python 2",
   "language": "python",
   "name": "python2"
  },
  "language_info": {
   "codemirror_mode": {
    "name": "ipython",
    "version": 2
   },
   "file_extension": ".py",
   "mimetype": "text/x-python",
   "name": "python",
   "nbconvert_exporter": "python",
   "pygments_lexer": "ipython2",
   "version": "2.7.10"
  }
 },
 "nbformat": 4,
 "nbformat_minor": 0
}
